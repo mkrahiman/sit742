{
  "nbformat": 4,
  "nbformat_minor": 0,
  "metadata": {
    "accelerator": "GPU",
    "colab": {
      "name": "assignment_2.ipynb",
      "provenance": [],
      "collapsed_sections": [],
      "machine_shape": "hm",
      "include_colab_link": true
    },
    "kernelspec": {
      "display_name": "Python 3",
      "language": "python",
      "name": "python3"
    },
    "language_info": {
      "codemirror_mode": {
        "name": "ipython",
        "version": 3
      },
      "file_extension": ".py",
      "mimetype": "text/x-python",
      "name": "python",
      "nbconvert_exporter": "python",
      "pygments_lexer": "ipython3",
      "version": "3.7.6"
    }
  },
  "cells": [
    {
      "cell_type": "markdown",
      "metadata": {
        "id": "view-in-github",
        "colab_type": "text"
      },
      "source": [
        "<a href=\"https://colab.research.google.com/github/mkrahiman/sit742/blob/master/assignment_2.ipynb\" target=\"_parent\"><img src=\"https://colab.research.google.com/assets/colab-badge.svg\" alt=\"Open In Colab\"/></a>"
      ]
    },
    {
      "cell_type": "markdown",
      "metadata": {
        "colab_type": "text",
        "id": "wjif_5FsdOFz"
      },
      "source": [
        "# SIT744 Assignment 2: Efficient Training of Convolutional Neural Network \n",
        "\n",
        "<div class=\"alert-info\">\n",
        "    <p>Due: <strong>9:00am 18 May 2020</strong>  (Monday)</p>\n",
        "\n",
        "This is an <strong>individual</strong> assignment. It contributes <strong>40%</strong> to your final mark. Read the assignment instruction carefully.\n",
        "\n",
        "<h2> What to submit </h2>\n",
        "\n",
        "<p>\n",
        "This assignment is to be completed individually and submitted to CloudDeakin. <strong>By the due date, you are required to submit the following files to the corresponding Assignment (Dropbox) in CloudDeakin</strong>:\n",
        "\n",
        "<ol>\n",
        "<li>\t<strong>[YourID]_assignment2_solution.ipynp</strong>:  This is your Python notebook solution source file. </li>\n",
        "<li>\t<strong>[YourID]_assingment2_output.html</strong>: This is the output of your Python notebook solution <emph>exported</emph> in HTML format.</li>\n",
        "<li>\tExtra files needed to complete your assignment, if any (e.g., images used in your answers).</li>\n",
        "</ol>\n",
        "</p>\n",
        "\n",
        "<p>\n",
        "For example, if your student ID is: 123456, you will then need to submit the following files:\n",
        "<ul>\n",
        "<li> 123456_assignment2_solution.ipynp </li>\n",
        "<li> 123456_assignment2_output.html</li>\n",
        "</ul>\n",
        "</p>\n",
        "\n",
        "<h2> Warning </h2>\n",
        "\n",
        "Some components of this assignment may involve heavy computation that runs for a long duration. Please start early to avoid missing the assignment due date.\n",
        "\n",
        "<h2> Marking criteria </h2>\n",
        "\n",
        "<p>\n",
        "Your submission will be marked using the following criteria.\n",
        "\n",
        "<ul>\n",
        "<li> Showing good effort through completed tasks.</li>\n",
        "<li> Applying deep learning theory to design suitable deep learning solutions for the tasks.</li>\n",
        "<li> Critically evaluating and reflecting on the pros and cons of various design decisions.</li>\n",
        "<li> Demonstrating creativity and resourcefulness in providing unique individual solutions.</li>\n",
        "<li> Showing attention to details through a good quality assignment report.</li>\n",
        "</ul>\n",
        "</p>\n",
        "\n",
        "<p>\n",
        "Indicative weights of various tasks are provided, but the assignment will be marked by the overall quality per the above criteria.\n",
        "</p>\n",
        "</div>"
      ]
    },
    {
      "cell_type": "markdown",
      "metadata": {
        "colab_type": "text",
        "id": "twFQbltnm8da"
      },
      "source": [
        "## Assignment objective\n",
        "\n",
        "This assignment is to feedback on your learning in deep learning theory and its application to  data analytics or artificial intelligence problems.  \n",
        "\n",
        "It builds on Assignment 1 but requires a higher level of mastery of deep learning theory and programming/engineering skills. In particular, you will experience training a much deeper network on a large-scale dataset. You will encounter  practical issues that help you consolidate textbook learning. "
      ]
    },
    {
      "cell_type": "markdown",
      "metadata": {
        "colab_type": "text",
        "id": "3ITc1hw_o7qV"
      },
      "source": [
        "## Task 1 Solving Fashion-MNIST with Convolutional Neural Networks\n",
        "\n",
        "*(weight ~20%)*\n",
        "\n",
        "In Assignment 1, you tackled the image classification problem in Fashion-MNIST. There, you used a Densely Connected Neural Network. You should now know that is not an optimal model architecture for the problem. In Assignment 2, you will apply the best practices of deep-learning computer vision to improve the image classification performance."
      ]
    },
    {
      "cell_type": "code",
      "metadata": {
        "id": "mS1XX8Pynhfk",
        "colab_type": "code",
        "colab": {}
      },
      "source": [
        "#import statements\n",
        "import tensorflow as tf\n",
        "from tensorflow import keras\n",
        "from keras.utils import to_categorical\n",
        "from tensorflow.keras import models\n",
        "from tensorflow.keras import layers\n",
        "from tensorflow.keras import optimizers\n",
        "from tensorflow.keras.regularizers import l2\n",
        "from tensorflow.keras.layers import LSTM\n",
        "from tensorflow.keras.utils import plot_model\n",
        "from datetime import datetime\n",
        "\n",
        "import os\n",
        "import numpy as np\n",
        "import pandas as pd\n",
        "import matplotlib.pyplot as plt"
      ],
      "execution_count": 0,
      "outputs": []
    },
    {
      "cell_type": "markdown",
      "metadata": {
        "colab_type": "text",
        "id": "zdHwmgwOpEfx"
      },
      "source": [
        "## Task 1.1 Revisit Fashion-MNIST classification with DNN\n",
        "\n"
      ]
    },
    {
      "cell_type": "code",
      "metadata": {
        "id": "Uaw8wUHYTJoD",
        "colab_type": "code",
        "outputId": "ba6da855-9491-4d1d-b446-4035284ae353",
        "colab": {
          "base_uri": "https://localhost:8080/",
          "height": 377
        }
      },
      "source": [
        "###Importing the fashion_mnsit from the keras dataset:\n",
        "import keras.datasets.fashion_mnist as fashion_mnist\n",
        "###Getting the training and testing data from the data\n",
        "(train_images, train_labels), (test_images, test_labels) = fashion_mnist.load_data()\n",
        "##The class names are defined so saving them under the classnames:\n",
        "classnames = ['T-shirt/top', 'Trouser', 'Pullover', 'Dress', 'Coat', 'Sandal', 'Shirt', 'Sneaker', 'Bag', 'Ankle boot']\n",
        "\n",
        "###Pipeline:\n",
        "\n",
        "###Reshape the data:\n",
        "(train_images, val_images) = train_images[5000:], train_images[:5000] \n",
        "(train_labels, val_labels) = train_labels[5000:], train_labels[:5000]\n",
        "\n",
        "train_images = train_images.astype('float32') / 255\n",
        "test_images = test_images.astype('float32') / 255\n",
        "val_images = val_images.astype('float32') / 255\n",
        "\n",
        "### Reshape input data from (28, 28) to (28 * 28):\n",
        "train_images = train_images.reshape(train_images.shape[0], 28 * 28)\n",
        "val_images = val_images.reshape(val_images.shape[0], 28 * 28)\n",
        "test_images = test_images.reshape(test_images.shape[0], 28 * 28)\n",
        "\n",
        "\n",
        "train_labels=to_categorical(train_labels)\n",
        "val_labels = to_categorical(val_labels)\n",
        "test_labels=to_categorical(test_labels)\n",
        "\n",
        "Dataset_train = tf.data.Dataset.from_tensor_slices((train_images, train_labels))\n",
        "Dataset_train\n",
        "\n",
        "Dataset_test = tf.data.Dataset.from_tensor_slices((test_images, test_labels))\n",
        "Dataset_test\n",
        "\n",
        "Dataset_val = tf.data.Dataset.from_tensor_slices((val_images, val_labels))\n",
        "Dataset_val\n",
        "\n",
        "Dataset_train = Dataset_train.shuffle(55000).batch(64)\n",
        "Dataset_test = Dataset_test.batch(64)\n",
        "Dataset_val = Dataset_val.batch(64)\n",
        "###Building a sequential network:\n",
        "Model_1 = models.Sequential([\n",
        "    layers.Dense(512, activation='relu', \n",
        "    input_shape=(28 * 28, )),\n",
        "    layers.Dense(10, activation='sigmoid')])\n",
        "\n",
        "Model_1.compile(optimizer='adam',\n",
        "                loss='categorical_crossentropy',\n",
        "                metrics=['accuracy'])\n",
        "            \n",
        "Fitting_model_train = Model_1.fit(Dataset_train,\n",
        "                                  epochs=10,\n",
        "                                  validation_data = (Dataset_val))\n",
        "\n",
        "testing_model_1 = Model_1.evaluate(Dataset_test, verbose= 0)\n"
      ],
      "execution_count": 0,
      "outputs": [
        {
          "output_type": "stream",
          "text": [
            "Epoch 1/10\n",
            "860/860 [==============================] - 3s 3ms/step - loss: 0.5159 - accuracy: 0.8187 - val_loss: 0.3878 - val_accuracy: 0.8670\n",
            "Epoch 2/10\n",
            "860/860 [==============================] - 3s 3ms/step - loss: 0.3748 - accuracy: 0.8658 - val_loss: 0.3398 - val_accuracy: 0.8766\n",
            "Epoch 3/10\n",
            "860/860 [==============================] - 3s 3ms/step - loss: 0.3367 - accuracy: 0.8779 - val_loss: 0.3365 - val_accuracy: 0.8760\n",
            "Epoch 4/10\n",
            "860/860 [==============================] - 3s 3ms/step - loss: 0.3135 - accuracy: 0.8838 - val_loss: 0.3095 - val_accuracy: 0.8888\n",
            "Epoch 5/10\n",
            "860/860 [==============================] - 3s 3ms/step - loss: 0.2896 - accuracy: 0.8936 - val_loss: 0.3186 - val_accuracy: 0.8846\n",
            "Epoch 6/10\n",
            "860/860 [==============================] - 3s 3ms/step - loss: 0.2720 - accuracy: 0.8989 - val_loss: 0.3061 - val_accuracy: 0.8904\n",
            "Epoch 7/10\n",
            "860/860 [==============================] - 3s 3ms/step - loss: 0.2622 - accuracy: 0.9025 - val_loss: 0.3039 - val_accuracy: 0.8928\n",
            "Epoch 8/10\n",
            "860/860 [==============================] - 3s 3ms/step - loss: 0.2482 - accuracy: 0.9071 - val_loss: 0.3171 - val_accuracy: 0.8880\n",
            "Epoch 9/10\n",
            "860/860 [==============================] - 3s 3ms/step - loss: 0.2382 - accuracy: 0.9112 - val_loss: 0.3058 - val_accuracy: 0.8926\n",
            "Epoch 10/10\n",
            "860/860 [==============================] - 3s 3ms/step - loss: 0.2276 - accuracy: 0.9137 - val_loss: 0.2979 - val_accuracy: 0.8944\n"
          ],
          "name": "stdout"
        }
      ]
    },
    {
      "cell_type": "code",
      "metadata": {
        "id": "5mYSbEjynqzY",
        "colab_type": "code",
        "outputId": "6c80f390-e8bc-4b06-d7ce-a3a3fcad746f",
        "colab": {
          "base_uri": "https://localhost:8080/",
          "height": 34
        }
      },
      "source": [
        "testing_model_1[1]"
      ],
      "execution_count": 0,
      "outputs": [
        {
          "output_type": "execute_result",
          "data": {
            "text/plain": [
              "0.8845000267028809"
            ]
          },
          "metadata": {
            "tags": []
          },
          "execution_count": 5
        }
      ]
    },
    {
      "cell_type": "markdown",
      "metadata": {
        "colab_type": "text",
        "id": "cfTL_5kPsl4j"
      },
      "source": [
        "## Task 1.2 Train a ConvNet from scratch\n",
        "\n",
        "\n"
      ]
    },
    {
      "cell_type": "code",
      "metadata": {
        "id": "MlKdfALiT-Df",
        "colab_type": "code",
        "colab": {}
      },
      "source": [
        "from keras.layers.convolutional import Conv2D\n",
        "from keras.layers import Dense\n",
        "from keras.layers.convolutional import MaxPooling2D\n",
        "from keras.layers import Flatten\n",
        "\n",
        "###Importing the fashion_mnsit from the keras dataset:\n",
        "import keras.datasets.fashion_mnist as fashion_mnist\n",
        "###Getting the training and testing data from the data\n",
        "(train_images, train_labels), (test_images, test_labels) = fashion_mnist.load_data()\n",
        "##The class names are defined so saving them under the classnames:\n",
        "classnames = ['T-shirt/top', 'Trouser', 'Pullover', 'Dress', 'Coat', 'Sandal', 'Shirt', 'Sneaker', 'Bag', 'Ankle boot']\n",
        "\n",
        "###Pipeline:\n",
        "(train_images, val_images) = train_images[5000:], train_images[:5000] \n",
        "(train_labels, val_labels) = train_labels[5000:], train_labels[:5000]\n",
        "\n",
        "Train_images = train_images.reshape(train_images.shape[0], 28, 28, 1)\n",
        "Val_images = val_images.reshape(val_images.shape[0], 28, 28, 1)\n",
        "Test_images = test_images.reshape(test_images.shape[0], 28, 28, 1)\n",
        "\n",
        "Train_images = Train_images.astype('float32') / 255\n",
        "Test_images = Test_images.astype('float32') / 255\n",
        "Val_images = Val_images.astype('float32') / 255\n",
        "\n",
        "Train_labels=to_categorical(train_labels, num_classes= 10)\n",
        "Val_labels = to_categorical(val_labels, num_classes= 10)\n",
        "Test_labels=to_categorical(test_labels, num_classes= 10)\n",
        "IMAGE_SIZE = 28\n",
        "\n",
        "\n"
      ],
      "execution_count": 0,
      "outputs": []
    },
    {
      "cell_type": "code",
      "metadata": {
        "id": "gNlAygATT7Jr",
        "colab_type": "code",
        "colab": {}
      },
      "source": [
        "### Model\n",
        "from keras.layers.normalization import BatchNormalization\n",
        "\n",
        "### Add convolution 2D\n",
        "def make_model():\n",
        "  Seq = models.Sequential()\n",
        "  Seq.add(layers.Conv2D(32, (3, 3), activation='relu',\n",
        "                          input_shape=(IMAGE_SIZE, IMAGE_SIZE, 1)))\n",
        "  Seq.add(layers.MaxPooling2D((2, 2)))\n",
        "\n",
        "  Seq.add(layers.Conv2D(64, (3, 3), activation='relu'))\n",
        "  Seq.add(layers.MaxPooling2D((2, 2)))\n",
        "\n",
        "  Seq.add(layers.Conv2D(128, (3, 3), activation='relu'))\n",
        "  Seq.add(layers.Flatten())\n",
        "  \n",
        "  Seq.add(layers.Dense(128, activation='relu'))\n",
        "  Seq.add(layers.Dense(10, activation='sigmoid'))\n",
        "  Seq.compile(loss='binary_crossentropy',\n",
        "              optimizer='adam',\n",
        "              metrics=['accuracy'])\n",
        "  return Seq\n",
        "#optimizers.RMSprop(lr=1e-4)"
      ],
      "execution_count": 0,
      "outputs": []
    },
    {
      "cell_type": "code",
      "metadata": {
        "id": "VbQYNA1lVlrP",
        "colab_type": "code",
        "outputId": "3ab82f0b-e071-4d87-adb8-3878e28965b6",
        "colab": {
          "base_uri": "https://localhost:8080/",
          "height": 425
        }
      },
      "source": [
        "Conv_model = make_model()\n",
        "Conv_model.summary()"
      ],
      "execution_count": 0,
      "outputs": [
        {
          "output_type": "stream",
          "text": [
            "Model: \"sequential_3\"\n",
            "_________________________________________________________________\n",
            "Layer (type)                 Output Shape              Param #   \n",
            "=================================================================\n",
            "conv2d_7 (Conv2D)            (None, 26, 26, 32)        320       \n",
            "_________________________________________________________________\n",
            "max_pooling2d_4 (MaxPooling2 (None, 13, 13, 32)        0         \n",
            "_________________________________________________________________\n",
            "conv2d_8 (Conv2D)            (None, 11, 11, 64)        18496     \n",
            "_________________________________________________________________\n",
            "max_pooling2d_5 (MaxPooling2 (None, 5, 5, 64)          0         \n",
            "_________________________________________________________________\n",
            "conv2d_9 (Conv2D)            (None, 3, 3, 128)         73856     \n",
            "_________________________________________________________________\n",
            "flatten_2 (Flatten)          (None, 1152)              0         \n",
            "_________________________________________________________________\n",
            "dense_6 (Dense)              (None, 128)               147584    \n",
            "_________________________________________________________________\n",
            "dense_7 (Dense)              (None, 10)                1290      \n",
            "=================================================================\n",
            "Total params: 241,546\n",
            "Trainable params: 241,546\n",
            "Non-trainable params: 0\n",
            "_________________________________________________________________\n"
          ],
          "name": "stdout"
        }
      ]
    },
    {
      "cell_type": "code",
      "metadata": {
        "id": "NSW3_-UOeEPg",
        "colab_type": "code",
        "outputId": "9a8d5e72-e443-4914-c08b-0533ae0df6ee",
        "colab": {
          "base_uri": "https://localhost:8080/",
          "height": 377
        }
      },
      "source": [
        "Fitting_model = Conv_model.fit(\n",
        "    Train_images, Train_labels,\n",
        "    batch_size = 64,\n",
        "    steps_per_epoch = 100,\n",
        "    epochs=10,\n",
        "    verbose = 1,\n",
        "    validation_data= (Val_images, Val_labels),\n",
        "    validation_batch_size = 64,\n",
        "    validation_steps = 50\n",
        "    )\n"
      ],
      "execution_count": 0,
      "outputs": [
        {
          "output_type": "stream",
          "text": [
            "Epoch 1/10\n",
            "100/100 [==============================] - 1s 7ms/step - loss: 0.2503 - accuracy: 0.4663 - val_loss: 0.1434 - val_accuracy: 0.7100\n",
            "Epoch 2/10\n",
            "100/100 [==============================] - 1s 6ms/step - loss: 0.1231 - accuracy: 0.7412 - val_loss: 0.1082 - val_accuracy: 0.7800\n",
            "Epoch 3/10\n",
            "100/100 [==============================] - 1s 6ms/step - loss: 0.1022 - accuracy: 0.7830 - val_loss: 0.0972 - val_accuracy: 0.8084\n",
            "Epoch 4/10\n",
            "100/100 [==============================] - 1s 6ms/step - loss: 0.0932 - accuracy: 0.8048 - val_loss: 0.0937 - val_accuracy: 0.8106\n",
            "Epoch 5/10\n",
            "100/100 [==============================] - 1s 6ms/step - loss: 0.0877 - accuracy: 0.8197 - val_loss: 0.0813 - val_accuracy: 0.8356\n",
            "Epoch 6/10\n",
            "100/100 [==============================] - 1s 6ms/step - loss: 0.0836 - accuracy: 0.8313 - val_loss: 0.0768 - val_accuracy: 0.8478\n",
            "Epoch 7/10\n",
            "100/100 [==============================] - 1s 6ms/step - loss: 0.0801 - accuracy: 0.8372 - val_loss: 0.0745 - val_accuracy: 0.8481\n",
            "Epoch 8/10\n",
            "100/100 [==============================] - 1s 6ms/step - loss: 0.0747 - accuracy: 0.8536 - val_loss: 0.0747 - val_accuracy: 0.8453\n",
            "Epoch 9/10\n",
            "100/100 [==============================] - 1s 6ms/step - loss: 0.0734 - accuracy: 0.8538 - val_loss: 0.0703 - val_accuracy: 0.8559\n",
            "Epoch 10/10\n",
            "100/100 [==============================] - 1s 6ms/step - loss: 0.0717 - accuracy: 0.8602 - val_loss: 0.0666 - val_accuracy: 0.8691\n"
          ],
          "name": "stdout"
        }
      ]
    },
    {
      "cell_type": "code",
      "metadata": {
        "id": "DbZcSa-ZADue",
        "colab_type": "code",
        "colab": {}
      },
      "source": [
        ""
      ],
      "execution_count": 0,
      "outputs": []
    },
    {
      "cell_type": "code",
      "metadata": {
        "id": "UdHJShIflHDl",
        "colab_type": "code",
        "outputId": "11ede559-825b-4ffa-ec6c-d9e29354bfb4",
        "colab": {
          "base_uri": "https://localhost:8080/",
          "height": 275
        }
      },
      "source": [
        "%pip install git+https://github.com/tensorflow/docs"
      ],
      "execution_count": 0,
      "outputs": [
        {
          "output_type": "stream",
          "text": [
            "Collecting git+https://github.com/tensorflow/docs\n",
            "  Cloning https://github.com/tensorflow/docs to /tmp/pip-req-build-5gx6g2u7\n",
            "  Running command git clone -q https://github.com/tensorflow/docs /tmp/pip-req-build-5gx6g2u7\n",
            "Requirement already satisfied: astor in /usr/local/lib/python3.6/dist-packages (from tensorflow-docs===0.0.03082041fb5ef2b29217584659bc43d89602d57cf-) (0.8.1)\n",
            "Requirement already satisfied: absl-py in /usr/local/lib/python3.6/dist-packages (from tensorflow-docs===0.0.03082041fb5ef2b29217584659bc43d89602d57cf-) (0.9.0)\n",
            "Requirement already satisfied: pyyaml in /usr/local/lib/python3.6/dist-packages (from tensorflow-docs===0.0.03082041fb5ef2b29217584659bc43d89602d57cf-) (3.13)\n",
            "Requirement already satisfied: six in /usr/local/lib/python3.6/dist-packages (from absl-py->tensorflow-docs===0.0.03082041fb5ef2b29217584659bc43d89602d57cf-) (1.12.0)\n",
            "Building wheels for collected packages: tensorflow-docs\n",
            "  Building wheel for tensorflow-docs (setup.py) ... \u001b[?25l\u001b[?25hdone\n",
            "  Created wheel for tensorflow-docs: filename=tensorflow_docs-0.0.03082041fb5ef2b29217584659bc43d89602d57cf_-cp36-none-any.whl size=101669 sha256=75c725cdd7615f393fc1ba1bc077810c65315ab522c035781facb73681d4a28b\n",
            "  Stored in directory: /tmp/pip-ephem-wheel-cache-zs_npwz8/wheels/eb/1b/35/fce87697be00d2fc63e0b4b395b0d9c7e391a10e98d9a0d97f\n",
            "Successfully built tensorflow-docs\n",
            "Installing collected packages: tensorflow-docs\n",
            "Successfully installed tensorflow-docs-0.0.03082041fb5ef2b29217584659bc43d89602d57cf-\n"
          ],
          "name": "stdout"
        }
      ]
    },
    {
      "cell_type": "code",
      "metadata": {
        "id": "aXRnWErnbfNE",
        "colab_type": "code",
        "outputId": "7956989f-957c-4527-8f99-ca884632e27b",
        "colab": {
          "base_uri": "https://localhost:8080/",
          "height": 312
        }
      },
      "source": [
        "import tensorflow_docs as tfdocs\n",
        "import tensorflow_docs.plots\n",
        "\n",
        "plotter = tfdocs.plots.HistoryPlotter()\n",
        "plotter.plot({\"\": Fitting_model}, metric = \"accuracy\")\n",
        "plt.title(\"Accuracy\")\n",
        "plt.ylim([0,1])\n"
      ],
      "execution_count": 0,
      "outputs": [
        {
          "output_type": "execute_result",
          "data": {
            "text/plain": [
              "(0.0, 1.0)"
            ]
          },
          "metadata": {
            "tags": []
          },
          "execution_count": 11
        },
        {
          "output_type": "display_data",
          "data": {
            "image/png": "[encoded data removed]",
            "text/plain": [
              "<Figure size 432x288 with 1 Axes>"
            ]
          },
          "metadata": {
            "tags": [],
            "needs_background": "light"
          }
        }
      ]
    },
    {
      "cell_type": "code",
      "metadata": {
        "id": "Dv6dwGBnkjth",
        "colab_type": "code",
        "outputId": "e5ea189b-79fd-49ad-c1e5-55cec9f03823",
        "colab": {
          "base_uri": "https://localhost:8080/",
          "height": 312
        }
      },
      "source": [
        "plotter = tfdocs.plots.HistoryPlotter()\n",
        "plotter.plot({\"\": Fitting_model}, metric = \"loss\")\n",
        "plt.title(\"Accuracy\")\n",
        "plt.ylim([0,1])"
      ],
      "execution_count": 0,
      "outputs": [
        {
          "output_type": "execute_result",
          "data": {
            "text/plain": [
              "(0.0, 1.0)"
            ]
          },
          "metadata": {
            "tags": []
          },
          "execution_count": 12
        },
        {
          "output_type": "display_data",
          "data": {
            "image/png": "[encoded data removed]",
            "text/plain": [
              "<Figure size 432x288 with 1 Axes>"
            ]
          },
          "metadata": {
            "tags": [],
            "needs_background": "light"
          }
        }
      ]
    },
    {
      "cell_type": "code",
      "metadata": {
        "id": "H8ksF201kl7n",
        "colab_type": "code",
        "outputId": "8a28c32f-fbfa-4774-f779-5f90594a5c58",
        "colab": {
          "base_uri": "https://localhost:8080/",
          "height": 71
        }
      },
      "source": [
        "Testing_model = Conv_model.evaluate(Test_images,\n",
        "               Test_labels,\n",
        "               batch_size = 64)\n",
        "Testing_model[1]\n",
        "\n",
        "#Testing_model = Model_1.evaluate(Dataset_Test, verbose= 0)\n",
        "\n",
        "#Testing_model[1]"
      ],
      "execution_count": 0,
      "outputs": [
        {
          "output_type": "stream",
          "text": [
            "157/157 [==============================] - 0s 3ms/step - loss: 0.0701 - accuracy: 0.8610\n"
          ],
          "name": "stdout"
        },
        {
          "output_type": "execute_result",
          "data": {
            "text/plain": [
              "0.8610000014305115"
            ]
          },
          "metadata": {
            "tags": []
          },
          "execution_count": 92
        }
      ]
    },
    {
      "cell_type": "markdown",
      "metadata": {
        "colab_type": "text",
        "id": "qbhr44DnMbKZ"
      },
      "source": [
        "\n",
        "### Task 1.3 Build an input pipeline for data augmentation\n",
        "\n",
        "*(weight ~5%)*\n",
        "\n",
        "Build a data preprocessing pipeline to perform data augmentation. (You may use Keras ImageDataGenerator or write your own transformations.)\n",
        "\n",
        "- Report the new classification accuracy. Make sure that you use the same number of training epochs as in Task 1.2.\n",
        "\n",
        "- (Optional) Profile your input pipeline to identify the most time-consuming operation. What actions have you taken to address that slow operation? (*Hint: You may use the [TensorFlow Profiler](https://github.com/tensorflow/profiler).*)"
      ]
    },
    {
      "cell_type": "code",
      "metadata": {
        "id": "morUp5kvT6Bg",
        "colab_type": "code",
        "colab": {}
      },
      "source": [
        "from keras.preprocessing.image import ImageDataGenerator\n",
        "\n",
        "gen = ImageDataGenerator(rotation_range=8, \n",
        "                         width_shift_range=0.08, \n",
        "                         shear_range=0.3,\n",
        "                         height_shift_range=0.08, \n",
        "                         zoom_range=0.08)\n",
        "\n",
        "test_gen = ImageDataGenerator()\n"
      ],
      "execution_count": 0,
      "outputs": []
    },
    {
      "cell_type": "code",
      "metadata": {
        "id": "IMJe_DoYpti6",
        "colab_type": "code",
        "colab": {}
      },
      "source": [
        "train_generator = gen.flow(Train_images, Train_labels, batch_size=64)\n",
        "test_generator = test_gen.flow(Test_images, Test_labels, batch_size = 64)\n",
        "val_generator = gen.flow(Val_images, Val_labels, batch_size=64)"
      ],
      "execution_count": 0,
      "outputs": []
    },
    {
      "cell_type": "code",
      "metadata": {
        "id": "RJmw4VJfpuHR",
        "colab_type": "code",
        "outputId": "7bb3a8b6-62cb-4463-bd67-bec9b454c1f3",
        "colab": {
          "base_uri": "https://localhost:8080/",
          "height": 377
        }
      },
      "source": [
        "Augmented_model = Conv_model.fit(train_generator, \n",
        "                            steps_per_epoch = 100, \n",
        "                            epochs= 10, \n",
        "                            validation_data = val_generator, \n",
        "                            validation_steps = 50)"
      ],
      "execution_count": 0,
      "outputs": [
        {
          "output_type": "stream",
          "text": [
            "Epoch 1/10\n",
            "100/100 [==============================] - 4s 37ms/step - loss: 0.1006 - accuracy: 0.7858 - val_loss: 0.0981 - val_accuracy: 0.7937\n",
            "Epoch 2/10\n",
            "100/100 [==============================] - 4s 36ms/step - loss: 0.0972 - accuracy: 0.7958 - val_loss: 0.0881 - val_accuracy: 0.8081\n",
            "Epoch 3/10\n",
            "100/100 [==============================] - 4s 36ms/step - loss: 0.0904 - accuracy: 0.8105 - val_loss: 0.0879 - val_accuracy: 0.8159\n",
            "Epoch 4/10\n",
            "100/100 [==============================] - 4s 37ms/step - loss: 0.0854 - accuracy: 0.8222 - val_loss: 0.0831 - val_accuracy: 0.8263\n",
            "Epoch 5/10\n",
            "100/100 [==============================] - 4s 37ms/step - loss: 0.0843 - accuracy: 0.8223 - val_loss: 0.0791 - val_accuracy: 0.8394\n",
            "Epoch 6/10\n",
            "100/100 [==============================] - 4s 37ms/step - loss: 0.0841 - accuracy: 0.8204 - val_loss: 0.0806 - val_accuracy: 0.8228\n",
            "Epoch 7/10\n",
            "100/100 [==============================] - 4s 37ms/step - loss: 0.0802 - accuracy: 0.8241 - val_loss: 0.0779 - val_accuracy: 0.8350\n",
            "Epoch 8/10\n",
            "100/100 [==============================] - 4s 36ms/step - loss: 0.0825 - accuracy: 0.8288 - val_loss: 0.0767 - val_accuracy: 0.8341\n",
            "Epoch 9/10\n",
            "100/100 [==============================] - 4s 36ms/step - loss: 0.0816 - accuracy: 0.8252 - val_loss: 0.0745 - val_accuracy: 0.8388\n",
            "Epoch 10/10\n",
            "100/100 [==============================] - 4s 35ms/step - loss: 0.0807 - accuracy: 0.8302 - val_loss: 0.0725 - val_accuracy: 0.8525\n"
          ],
          "name": "stdout"
        }
      ]
    },
    {
      "cell_type": "code",
      "metadata": {
        "id": "gPsF83I_bSgc",
        "colab_type": "code",
        "outputId": "b8235d81-e6ca-4693-dd48-564cbcd8366a",
        "colab": {
          "base_uri": "https://localhost:8080/",
          "height": 71
        }
      },
      "source": [
        "Testing_augmented_model = Conv_model.evaluate(Test_images, Test_labels, batch_size= 64, verbose = 1)\n",
        "Testing_augmented_model[1]"
      ],
      "execution_count": 0,
      "outputs": [
        {
          "output_type": "stream",
          "text": [
            "157/157 [==============================] - 0s 3ms/step - loss: 0.0664 - accuracy: 0.8656\n"
          ],
          "name": "stdout"
        },
        {
          "output_type": "execute_result",
          "data": {
            "text/plain": [
              "0.8655999898910522"
            ]
          },
          "metadata": {
            "tags": []
          },
          "execution_count": 97
        }
      ]
    },
    {
      "cell_type": "code",
      "metadata": {
        "id": "Rm-auQHYsJpj",
        "colab_type": "code",
        "outputId": "71772bd6-aa1f-4b9d-8ca2-f6d92733c66a",
        "colab": {
          "base_uri": "https://localhost:8080/",
          "height": 312
        }
      },
      "source": [
        "plotter = tfdocs.plots.HistoryPlotter()\n",
        "plotter.plot({ \"Augmented\": Augmented_model, \"Non-Augmented\": Fitting_model}, metric = \"accuracy\")\n",
        "plt.title(\"Accuracy\")\n",
        "plt.ylim([0,1])"
      ],
      "execution_count": 0,
      "outputs": [
        {
          "output_type": "execute_result",
          "data": {
            "text/plain": [
              "(0.0, 1.0)"
            ]
          },
          "metadata": {
            "tags": []
          },
          "execution_count": 19
        },
        {
          "output_type": "display_data",
          "data": {
            "image/png": "[encoded data removed]",
            "text/plain": [
              "<Figure size 432x288 with 1 Axes>"
            ]
          },
          "metadata": {
            "tags": [],
            "needs_background": "light"
          }
        }
      ]
    },
    {
      "cell_type": "code",
      "metadata": {
        "id": "RgkzAtUOsKkw",
        "colab_type": "code",
        "outputId": "bc48cfcd-04c3-4893-cca1-da84299c0ee6",
        "colab": {
          "base_uri": "https://localhost:8080/",
          "height": 312
        }
      },
      "source": [
        "plotter = tfdocs.plots.HistoryPlotter()\n",
        "plotter.plot({ \"Augmented\": Augmented_model, \"Non-Augmented\": Fitting_model}, metric = \"loss\")\n",
        "plt.title(\"Loss\")\n",
        "plt.ylim([0,1])"
      ],
      "execution_count": 0,
      "outputs": [
        {
          "output_type": "execute_result",
          "data": {
            "text/plain": [
              "(0.0, 1.0)"
            ]
          },
          "metadata": {
            "tags": []
          },
          "execution_count": 20
        },
        {
          "output_type": "display_data",
          "data": {
            "image/png": "[encoded data removed]",
            "text/plain": [
              "<Figure size 432x288 with 1 Axes>"
            ]
          },
          "metadata": {
            "tags": [],
            "needs_background": "light"
          }
        }
      ]
    },
    {
      "cell_type": "markdown",
      "metadata": {
        "id": "_zJtvzvEqq36",
        "colab_type": "text"
      },
      "source": [
        ""
      ]
    },
    {
      "cell_type": "markdown",
      "metadata": {
        "colab_type": "text",
        "id": "prctXU4BswKK"
      },
      "source": [
        "### Task 1.3 Fashion-MNIST with transfer learning\n",
        "\n",
        "*(weight ~5%)*\n",
        "\n",
        "Use a pretrained model as the convolutional base to improve the classification performance. (Hint: You may use models in Keras Applications or those in the TensorFlow Hub.)\n",
        "\n",
        "- Try both with fine-tuning and without fine-tuning.\n",
        "- Report the model performance as before.\n",
        "\n"
      ]
    },
    {
      "cell_type": "code",
      "metadata": {
        "id": "k6LYuxi5mKYY",
        "colab_type": "code",
        "colab": {}
      },
      "source": [
        "#from _future_ import absolute_import, division, print_function\n",
        "\n",
        "from keras.applications.inception_v3 import InceptionV3\n",
        "from keras.preprocessing import image\n",
        "from keras.applications.inception_v3 import preprocess_input # New\n",
        "from keras.models import Model as models\n",
        "from keras.layers import Dense, GlobalAveragePooling2D\n",
        "from keras import backend as K\n",
        "\n",
        "import tensorflow as tf\n",
        "from tensorflow import keras\n",
        "\n",
        "import numpy as np\n",
        "import matplotlib.pyplot as plt\n"
      ],
      "execution_count": 0,
      "outputs": []
    },
    {
      "cell_type": "code",
      "metadata": {
        "id": "IhKuQXTWGdZd",
        "colab_type": "code",
        "colab": {}
      },
      "source": [
        "base_model = InceptionV3(weights='imagenet', \n",
        "                         include_top=False, \n",
        "                         input_shape=(75, 75, 3))\n",
        "Incp_model = base_model.output\n",
        "Incp_model = GlobalAveragePooling2D()(Incp_model)\n",
        "Incp_model = Dense(512, activation='relu')(Incp_model)\n",
        "predictions = Dense(10, activation='softmax')(Incp_model)\n",
        "\n",
        "model = models(inputs=base_model.input, outputs=predictions)\n",
        "\n",
        "for layer in base_model.layers:\n",
        "    layer.trainable = False"
      ],
      "execution_count": 0,
      "outputs": []
    },
    {
      "cell_type": "code",
      "metadata": {
        "id": "O5bZGHCaFjVu",
        "colab_type": "code",
        "colab": {}
      },
      "source": [
        "###Importing the fashion_mnsit from the keras dataset:\n",
        "import keras.datasets.fashion_mnist as fashion_mnist\n",
        "###Getting the training and testing data from the data\n",
        "(train_images, train_labels), (test_images, test_labels) = fashion_mnist.load_data()\n",
        "##The class names are defined so saving them under the classnames:\n",
        "classnames = ['T-shirt/top', 'Trouser', 'Pullover', 'Dress', 'Coat', 'Sandal', 'Shirt', 'Sneaker', 'Bag', 'Ankle boot']\n",
        "\n",
        "train_images = train_images.astype('float32') / 255\n",
        "test_images = test_images.astype('float32') / 255\n",
        "\n",
        "# Reshaping the images to fit the model requirments:\n",
        "from skimage.transform import resize\n",
        "train_images_preprocess = np.zeros((train_images.shape[0], 75, 75, 3), dtype=np.float32)\n",
        "\n",
        "for i, img in enumerate(train_images):\n",
        "    img_resize = resize(img, (75, 75), anti_aliasing=True)\n",
        "    img_resize = preprocess_input(img_resize).astype(np.float32)\n",
        "    train_images_preprocess[i] = np.dstack([img_resize, img_resize, img_resize])\n",
        "\n",
        "del train_images\n",
        "\n",
        "test_images_preprocess = np.zeros((test_images.shape[0], 75, 75, 3), dtype=np.float32)\n",
        "\n",
        "for i, img in enumerate(test_images):\n",
        "    img_resize = resize(img, (75, 75), anti_aliasing=True)\n",
        "    img_resize = preprocess_input(img_resize).astype(np.float32)\n",
        "    test_images_preprocess[i] = np.dstack([img_resize, img_resize, img_resize])\n",
        "\n",
        "del test_images\n",
        "\n"
      ],
      "execution_count": 0,
      "outputs": []
    },
    {
      "cell_type": "code",
      "metadata": {
        "id": "_o5AkaMbLBkb",
        "colab_type": "code",
        "outputId": "baa34862-47ce-4216-ef76-20c0a7ac5f22",
        "colab": {
          "base_uri": "https://localhost:8080/",
          "height": 564
        }
      },
      "source": [
        "# Compile the model\n",
        "model.compile(optimizer='adam', \n",
        "              loss='sparse_categorical_crossentropy', \n",
        "              metrics=['accuracy'])\n",
        "\n",
        "# Train it\n",
        "model.fit(train_images_preprocess, train_labels, epochs=15)\n",
        "\n"
      ],
      "execution_count": 0,
      "outputs": [
        {
          "output_type": "stream",
          "text": [
            "Epoch 1/15\n",
            "60000/60000 [==============================] - 48s 794us/step - loss: 1.2341 - accuracy: 0.5766\n",
            "Epoch 2/15\n",
            "60000/60000 [==============================] - 45s 754us/step - loss: 1.0662 - accuracy: 0.6325\n",
            "Epoch 3/15\n",
            "60000/60000 [==============================] - 45s 754us/step - loss: 1.0100 - accuracy: 0.6503\n",
            "Epoch 4/15\n",
            "60000/60000 [==============================] - 45s 754us/step - loss: 0.9714 - accuracy: 0.6607\n",
            "Epoch 5/15\n",
            "60000/60000 [==============================] - 45s 756us/step - loss: 0.9471 - accuracy: 0.6687\n",
            "Epoch 6/15\n",
            "60000/60000 [==============================] - 45s 756us/step - loss: 0.9250 - accuracy: 0.6753\n",
            "Epoch 7/15\n",
            "60000/60000 [==============================] - 46s 759us/step - loss: 0.9122 - accuracy: 0.6807\n",
            "Epoch 8/15\n",
            "60000/60000 [==============================] - 46s 760us/step - loss: 0.9015 - accuracy: 0.6848\n",
            "Epoch 9/15\n",
            "60000/60000 [==============================] - 45s 758us/step - loss: 0.8887 - accuracy: 0.6902\n",
            "Epoch 10/15\n",
            "60000/60000 [==============================] - 46s 760us/step - loss: 0.8820 - accuracy: 0.6909\n",
            "Epoch 11/15\n",
            "60000/60000 [==============================] - 45s 758us/step - loss: 0.8733 - accuracy: 0.6950\n",
            "Epoch 12/15\n",
            "60000/60000 [==============================] - 45s 757us/step - loss: 0.8665 - accuracy: 0.6961\n",
            "Epoch 13/15\n",
            "60000/60000 [==============================] - 45s 758us/step - loss: 0.8585 - accuracy: 0.6980\n",
            "Epoch 14/15\n",
            "60000/60000 [==============================] - 46s 763us/step - loss: 0.8505 - accuracy: 0.7004\n",
            "Epoch 15/15\n",
            "60000/60000 [==============================] - 46s 759us/step - loss: 0.8508 - accuracy: 0.7017\n"
          ],
          "name": "stdout"
        },
        {
          "output_type": "execute_result",
          "data": {
            "text/plain": [
              "<keras.callbacks.callbacks.History at 0x7f70576d8748>"
            ]
          },
          "metadata": {
            "tags": []
          },
          "execution_count": 24
        }
      ]
    },
    {
      "cell_type": "code",
      "metadata": {
        "id": "xH-OnBmaLD76",
        "colab_type": "code",
        "outputId": "753fc7df-afaf-4742-a7ec-c2219ff77bcb",
        "colab": {
          "base_uri": "https://localhost:8080/",
          "height": 51
        }
      },
      "source": [
        "test_loss, test_acc = model.evaluate(test_images_preprocess, test_labels)\n",
        "\n",
        "print('Test accuracy:', test_acc)"
      ],
      "execution_count": 0,
      "outputs": [
        {
          "output_type": "stream",
          "text": [
            "10000/10000 [==============================] - 11s 1ms/step\n",
            "Test accuracy: 0.10000000149011612\n"
          ],
          "name": "stdout"
        }
      ]
    },
    {
      "cell_type": "markdown",
      "metadata": {
        "colab_type": "text",
        "id": "UaHLKDLas_dF"
      },
      "source": [
        "### Task 1.4 Performance comparison\n",
        "\n",
        "*(weight ~2%)*\n",
        "\n",
        "Record the test accuracy achieved at different training configurations above. Which method achieved the highest accuracy? Why did it work better for this problem?\n"
      ]
    },
    {
      "cell_type": "markdown",
      "metadata": {
        "id": "w_p3p2zDTq8M",
        "colab_type": "text"
      },
      "source": [
        "```\n",
        "\n",
        "1. From the Task 1.1 with DNN we achieved an accuracy of 88% approximately.\n",
        "\n",
        "2. From the task 1.2 with augmentation we received an accuracy of 88% approximately.\n",
        "\n",
        "3. From the task 1.3 with transfer learning we achieved an accuracy of 10%\n",
        "\n",
        "From all the above we achieved the best accuracy of 88% in task 1.2. The reason \n",
        "for this is that data augmentation reduces the risk overfitting (which is very evidently seen in a normal Conv net).\n",
        "\n",
        "```\n",
        "\n"
      ]
    },
    {
      "cell_type": "markdown",
      "metadata": {
        "colab_type": "text",
        "id": "ouK5NY-_pLDK"
      },
      "source": [
        "## Task 2 Fast training of deep networks\n",
        "\n",
        "*(weight ~20%)*"
      ]
    },
    {
      "cell_type": "markdown",
      "metadata": {
        "colab_type": "text",
        "id": "LgoOE2W1pdfN"
      },
      "source": [
        "### Task 2.1 Train a highly accurate network for CIFAR10\n",
        "\n",
        "*(weight ~7%)*\n",
        "\n",
        "In this task, you will train deep neural networks on the [CIFAR10 dataset](https://www.cs.toronto.edu/~kriz/cifar.html). Compared with the datasets that you have worked on so far, CIFAR10 represents a relatively larger multi-class classification problem and presents a great opportunity for you to solve a \"harder\" problem.\n",
        "\n"
      ]
    },
    {
      "cell_type": "markdown",
      "metadata": {
        "colab_type": "text",
        "id": "IaD5oqj3lhuI"
      },
      "source": [
        "\n",
        "#### Task 2.1.1 Document the hardware used\n",
        "\n",
        "Before you start, write down your hardware specifications, including \n",
        "\n",
        "- the GPU model, the number of GPUs, and the GPU memory\n",
        "- the CPU model, the number of CPUs, and the CPU clock speed\n",
        "\n",
        "(Hint: you may find commands like `nvidia-smi`, `lscpu` or `psutil` useful.)"
      ]
    },
    {
      "cell_type": "code",
      "metadata": {
        "id": "dRETCMl_YnGC",
        "colab_type": "code",
        "colab": {
          "base_uri": "https://localhost:8080/",
          "height": 476
        },
        "outputId": "c3a988b2-2fb6-426c-fe21-c1fa3c5000b7"
      },
      "source": [
        "from tensorflow.python.client import device_lib\n",
        "device_lib.list_local_devices()"
      ],
      "execution_count": 101,
      "outputs": [
        {
          "output_type": "execute_result",
          "data": {
            "text/plain": [
              "[name: \"/device:CPU:0\"\n",
              " device_type: \"CPU\"\n",
              " memory_limit: 268435456\n",
              " locality {\n",
              " }\n",
              " incarnation: 10406393337229639281, name: \"/device:XLA_CPU:0\"\n",
              " device_type: \"XLA_CPU\"\n",
              " memory_limit: 17179869184\n",
              " locality {\n",
              " }\n",
              " incarnation: 7358482500044055732\n",
              " physical_device_desc: \"device: XLA_CPU device\", name: \"/device:XLA_GPU:0\"\n",
              " device_type: \"XLA_GPU\"\n",
              " memory_limit: 17179869184\n",
              " locality {\n",
              " }\n",
              " incarnation: 13502889864864485422\n",
              " physical_device_desc: \"device: XLA_GPU device\", name: \"/device:GPU:0\"\n",
              " device_type: \"GPU\"\n",
              " memory_limit: 15701463552\n",
              " locality {\n",
              "   bus_id: 1\n",
              "   links {\n",
              "   }\n",
              " }\n",
              " incarnation: 1065190060557356230\n",
              " physical_device_desc: \"device: 0, name: Tesla P100-PCIE-16GB, pci bus id: 0000:00:04.0, compute capability: 6.0\"]"
            ]
          },
          "metadata": {
            "tags": []
          },
          "execution_count": 101
        }
      ]
    },
    {
      "cell_type": "code",
      "metadata": {
        "id": "Cyzl3_jEYumT",
        "colab_type": "code",
        "colab": {
          "base_uri": "https://localhost:8080/",
          "height": 1000
        },
        "outputId": "a0f0ace8-52a3-4533-e064-6774b11fec39"
      },
      "source": [
        "!cat /proc/cpuinfo\n",
        "!cat /proc/meminfo."
      ],
      "execution_count": 99,
      "outputs": [
        {
          "output_type": "stream",
          "text": [
            "processor\t: 0\n",
            "vendor_id\t: GenuineIntel\n",
            "cpu family\t: 6\n",
            "model\t\t: 79\n",
            "model name\t: Intel(R) Xeon(R) CPU @ 2.20GHz\n",
            "stepping\t: 0\n",
            "microcode\t: 0x1\n",
            "cpu MHz\t\t: 2200.000\n",
            "cache size\t: 56320 KB\n",
            "physical id\t: 0\n",
            "siblings\t: 4\n",
            "core id\t\t: 0\n",
            "cpu cores\t: 2\n",
            "apicid\t\t: 0\n",
            "initial apicid\t: 0\n",
            "fpu\t\t: yes\n",
            "fpu_exception\t: yes\n",
            "cpuid level\t: 13\n",
            "wp\t\t: yes\n",
            "flags\t\t: fpu vme de pse tsc msr pae mce cx8 apic sep mtrr pge mca cmov pat pse36 clflush mmx fxsr sse sse2 ss ht syscall nx pdpe1gb rdtscp lm constant_tsc rep_good nopl xtopology nonstop_tsc cpuid tsc_known_freq pni pclmulqdq ssse3 fma cx16 pcid sse4_1 sse4_2 x2apic movbe popcnt aes xsave avx f16c rdrand hypervisor lahf_lm abm 3dnowprefetch invpcid_single ssbd ibrs ibpb stibp fsgsbase tsc_adjust bmi1 hle avx2 smep bmi2 erms invpcid rtm rdseed adx smap xsaveopt arat md_clear arch_capabilities\n",
            "bugs\t\t: cpu_meltdown spectre_v1 spectre_v2 spec_store_bypass l1tf mds swapgs taa itlb_multihit\n",
            "bogomips\t: 4400.00\n",
            "clflush size\t: 64\n",
            "cache_alignment\t: 64\n",
            "address sizes\t: 46 bits physical, 48 bits virtual\n",
            "power management:\n",
            "\n",
            "processor\t: 1\n",
            "vendor_id\t: GenuineIntel\n",
            "cpu family\t: 6\n",
            "model\t\t: 79\n",
            "model name\t: Intel(R) Xeon(R) CPU @ 2.20GHz\n",
            "stepping\t: 0\n",
            "microcode\t: 0x1\n",
            "cpu MHz\t\t: 2200.000\n",
            "cache size\t: 56320 KB\n",
            "physical id\t: 0\n",
            "siblings\t: 4\n",
            "core id\t\t: 1\n",
            "cpu cores\t: 2\n",
            "apicid\t\t: 2\n",
            "initial apicid\t: 2\n",
            "fpu\t\t: yes\n",
            "fpu_exception\t: yes\n",
            "cpuid level\t: 13\n",
            "wp\t\t: yes\n",
            "flags\t\t: fpu vme de pse tsc msr pae mce cx8 apic sep mtrr pge mca cmov pat pse36 clflush mmx fxsr sse sse2 ss ht syscall nx pdpe1gb rdtscp lm constant_tsc rep_good nopl xtopology nonstop_tsc cpuid tsc_known_freq pni pclmulqdq ssse3 fma cx16 pcid sse4_1 sse4_2 x2apic movbe popcnt aes xsave avx f16c rdrand hypervisor lahf_lm abm 3dnowprefetch invpcid_single ssbd ibrs ibpb stibp fsgsbase tsc_adjust bmi1 hle avx2 smep bmi2 erms invpcid rtm rdseed adx smap xsaveopt arat md_clear arch_capabilities\n",
            "bugs\t\t: cpu_meltdown spectre_v1 spectre_v2 spec_store_bypass l1tf mds swapgs taa itlb_multihit\n",
            "bogomips\t: 4400.00\n",
            "clflush size\t: 64\n",
            "cache_alignment\t: 64\n",
            "address sizes\t: 46 bits physical, 48 bits virtual\n",
            "power management:\n",
            "\n",
            "processor\t: 2\n",
            "vendor_id\t: GenuineIntel\n",
            "cpu family\t: 6\n",
            "model\t\t: 79\n",
            "model name\t: Intel(R) Xeon(R) CPU @ 2.20GHz\n",
            "stepping\t: 0\n",
            "microcode\t: 0x1\n",
            "cpu MHz\t\t: 2200.000\n",
            "cache size\t: 56320 KB\n",
            "physical id\t: 0\n",
            "siblings\t: 4\n",
            "core id\t\t: 0\n",
            "cpu cores\t: 2\n",
            "apicid\t\t: 1\n",
            "initial apicid\t: 1\n",
            "fpu\t\t: yes\n",
            "fpu_exception\t: yes\n",
            "cpuid level\t: 13\n",
            "wp\t\t: yes\n",
            "flags\t\t: fpu vme de pse tsc msr pae mce cx8 apic sep mtrr pge mca cmov pat pse36 clflush mmx fxsr sse sse2 ss ht syscall nx pdpe1gb rdtscp lm constant_tsc rep_good nopl xtopology nonstop_tsc cpuid tsc_known_freq pni pclmulqdq ssse3 fma cx16 pcid sse4_1 sse4_2 x2apic movbe popcnt aes xsave avx f16c rdrand hypervisor lahf_lm abm 3dnowprefetch invpcid_single ssbd ibrs ibpb stibp fsgsbase tsc_adjust bmi1 hle avx2 smep bmi2 erms invpcid rtm rdseed adx smap xsaveopt arat md_clear arch_capabilities\n",
            "bugs\t\t: cpu_meltdown spectre_v1 spectre_v2 spec_store_bypass l1tf mds swapgs taa itlb_multihit\n",
            "bogomips\t: 4400.00\n",
            "clflush size\t: 64\n",
            "cache_alignment\t: 64\n",
            "address sizes\t: 46 bits physical, 48 bits virtual\n",
            "power management:\n",
            "\n",
            "processor\t: 3\n",
            "vendor_id\t: GenuineIntel\n",
            "cpu family\t: 6\n",
            "model\t\t: 79\n",
            "model name\t: Intel(R) Xeon(R) CPU @ 2.20GHz\n",
            "stepping\t: 0\n",
            "microcode\t: 0x1\n",
            "cpu MHz\t\t: 2200.000\n",
            "cache size\t: 56320 KB\n",
            "physical id\t: 0\n",
            "siblings\t: 4\n",
            "core id\t\t: 1\n",
            "cpu cores\t: 2\n",
            "apicid\t\t: 3\n",
            "initial apicid\t: 3\n",
            "fpu\t\t: yes\n",
            "fpu_exception\t: yes\n",
            "cpuid level\t: 13\n",
            "wp\t\t: yes\n",
            "flags\t\t: fpu vme de pse tsc msr pae mce cx8 apic sep mtrr pge mca cmov pat pse36 clflush mmx fxsr sse sse2 ss ht syscall nx pdpe1gb rdtscp lm constant_tsc rep_good nopl xtopology nonstop_tsc cpuid tsc_known_freq pni pclmulqdq ssse3 fma cx16 pcid sse4_1 sse4_2 x2apic movbe popcnt aes xsave avx f16c rdrand hypervisor lahf_lm abm 3dnowprefetch invpcid_single ssbd ibrs ibpb stibp fsgsbase tsc_adjust bmi1 hle avx2 smep bmi2 erms invpcid rtm rdseed adx smap xsaveopt arat md_clear arch_capabilities\n",
            "bugs\t\t: cpu_meltdown spectre_v1 spectre_v2 spec_store_bypass l1tf mds swapgs taa itlb_multihit\n",
            "bogomips\t: 4400.00\n",
            "clflush size\t: 64\n",
            "cache_alignment\t: 64\n",
            "address sizes\t: 46 bits physical, 48 bits virtual\n",
            "power management:\n",
            "\n",
            "cat: /proc/meminfo.: No such file or directory\n"
          ],
          "name": "stdout"
        }
      ]
    },
    {
      "cell_type": "code",
      "metadata": {
        "id": "uT0i0mbTaDGZ",
        "colab_type": "code",
        "colab": {
          "base_uri": "https://localhost:8080/",
          "height": 170
        },
        "outputId": "7b85f10c-d008-44a2-e794-6929b210fa04"
      },
      "source": [
        "!pip install GPUtil"
      ],
      "execution_count": 108,
      "outputs": [
        {
          "output_type": "stream",
          "text": [
            "Collecting GPUtil\n",
            "  Downloading https://files.pythonhosted.org/packages/ed/0e/5c61eedde9f6c87713e89d794f01e378cfd9565847d4576fa627d758c554/GPUtil-1.4.0.tar.gz\n",
            "Building wheels for collected packages: GPUtil\n",
            "  Building wheel for GPUtil (setup.py) ... \u001b[?25l\u001b[?25hdone\n",
            "  Created wheel for GPUtil: filename=GPUtil-1.4.0-cp36-none-any.whl size=7413 sha256=af47e49fe3999b064b5c243eccf005eb33eebf7583dd40b75d233730e3fb7e11\n",
            "  Stored in directory: /root/.cache/pip/wheels/3d/77/07/80562de4bb0786e5ea186911a2c831fdd0018bda69beab71fd\n",
            "Successfully built GPUtil\n",
            "Installing collected packages: GPUtil\n",
            "Successfully installed GPUtil-1.4.0\n"
          ],
          "name": "stdout"
        }
      ]
    },
    {
      "cell_type": "code",
      "metadata": {
        "id": "XB4-7LFJYxgS",
        "colab_type": "code",
        "colab": {
          "base_uri": "https://localhost:8080/",
          "height": 51
        },
        "outputId": "1f136b1b-6c51-4c13-b4b0-135372ed0bee"
      },
      "source": [
        "import psutil\n",
        "import humanize\n",
        "import os\n",
        "import GPUtil as GPU\n",
        "GPUs = GPU.getGPUs()\n",
        "\n",
        "# XXX: only one GPU on Colab and isn’t guaranteed\n",
        "gpu = GPUs[0]\n",
        "def printm():\n",
        "  process = psutil.Process(os.getpid())\n",
        "  print(\"Gen RAM Free: \" + humanize.naturalsize( psutil.virtual_memory().available ), \" | Proc size: \" + humanize.naturalsize( process.memory_info().rss))\n",
        "  print(\"GPU RAM Free: {0:.0f}MB | Used: {1:.0f}MB | Util {2:3.0f}% | Total {3:.0f}MB\".format(gpu.memoryFree, gpu.memoryUsed, gpu.memoryUtil*100, gpu.memoryTotal))\n",
        "\n",
        "printm()"
      ],
      "execution_count": 109,
      "outputs": [
        {
          "output_type": "stream",
          "text": [
            "Gen RAM Free: 17.1 GB  | Proc size: 18.6 GB\n",
            "GPU RAM Free: 755MB | Used: 15525MB | Util  95% | Total 16280MB\n"
          ],
          "name": "stdout"
        }
      ]
    },
    {
      "cell_type": "markdown",
      "metadata": {
        "id": "cVduwKy87Bt1",
        "colab_type": "text"
      },
      "source": [
        "#### Task 2.1.2 Train a \"shallow\" ConvNet\n",
        "\n",
        "Build a ConvNet with fewer than 10 layers. Train the network until it converges. You will use this network as a baseline for the later experiments. \n",
        "\n",
        "- Plot the training and validation history. \n",
        "- Report the testing accuracy. "
      ]
    },
    {
      "cell_type": "markdown",
      "metadata": {
        "id": "ez_O3cRE68Kh",
        "colab_type": "text"
      },
      "source": [
        ""
      ]
    },
    {
      "cell_type": "code",
      "metadata": {
        "id": "ONsGbIt4n22t",
        "colab_type": "code",
        "outputId": "551cbc0b-a245-4a74-bd7a-bcf54417921a",
        "colab": {
          "base_uri": "https://localhost:8080/",
          "height": 85
        }
      },
      "source": [
        "import keras.datasets.cifar10 as cifar10\n",
        "(train_images, train_labels), (test_images, test_labels) = cifar10.load_data()\n",
        "\n",
        "print('Shape of Train: IMAGES = %s, LABELS = %s' % (train_images.shape, train_labels.shape))\n",
        "print('Shape of Test: IMAGES = %s, LABELS = %s' % (test_images.shape, test_labels.shape))\n",
        "\n",
        "(train_images, val_images) = train_images[5000:], train_images[:5000] \n",
        "(train_labels, val_labels) = train_labels[5000:], train_labels[:5000]"
      ],
      "execution_count": 0,
      "outputs": [
        {
          "output_type": "stream",
          "text": [
            "Downloading data from https://www.cs.toronto.edu/~kriz/cifar-10-python.tar.gz\n",
            "170500096/170498071 [==============================] - 4s 0us/step\n",
            "Shape of Train: IMAGES = (50000, 32, 32, 3), LABELS = (50000, 1)\n",
            "Shape of Test: IMAGES = (10000, 32, 32, 3), LABELS = (10000, 1)\n"
          ],
          "name": "stdout"
        }
      ]
    },
    {
      "cell_type": "code",
      "metadata": {
        "id": "yPffwrVLADfy",
        "colab_type": "code",
        "outputId": "d71eee6c-415d-4dd5-ee65-3986c3c05638",
        "colab": {
          "base_uri": "https://localhost:8080/",
          "height": 34
        }
      },
      "source": [
        "train_images.shape"
      ],
      "execution_count": 0,
      "outputs": [
        {
          "output_type": "execute_result",
          "data": {
            "text/plain": [
              "(45000, 32, 32, 3)"
            ]
          },
          "metadata": {
            "tags": []
          },
          "execution_count": 28
        }
      ]
    },
    {
      "cell_type": "code",
      "metadata": {
        "id": "fl7AC2oS0GOi",
        "colab_type": "code",
        "outputId": "f11a28d9-549e-4620-93f1-ae926ce22027",
        "colab": {
          "base_uri": "https://localhost:8080/",
          "height": 34
        }
      },
      "source": [
        "\n",
        "train_images = train_images.astype('float32') / 255\n",
        "test_images = test_images.astype('float32') / 255\n",
        "val_images = val_images.astype('float32') / 255\n",
        "\n",
        "train_images.shape\n",
        "\n",
        "\n",
        "\n"
      ],
      "execution_count": 0,
      "outputs": [
        {
          "output_type": "execute_result",
          "data": {
            "text/plain": [
              "(45000, 32, 32, 3)"
            ]
          },
          "metadata": {
            "tags": []
          },
          "execution_count": 29
        }
      ]
    },
    {
      "cell_type": "code",
      "metadata": {
        "id": "djnK445J1-FV",
        "colab_type": "code",
        "colab": {}
      },
      "source": [
        "\n",
        "train_labels=to_categorical(train_labels , 10)\n",
        "val_labels = to_categorical(val_labels, 10)\n",
        "test_labels=to_categorical(test_labels, 10)\n",
        "IMAGE_SIZE = 32\n",
        "\n"
      ],
      "execution_count": 0,
      "outputs": []
    },
    {
      "cell_type": "code",
      "metadata": {
        "id": "FvJs8kDs3fzF",
        "colab_type": "code",
        "colab": {}
      },
      "source": [
        "### Model\n",
        "from keras.layers.normalization import BatchNormalization\n",
        "import tensorflow as tf\n",
        "from tensorflow import keras\n",
        "from keras.utils import to_categorical\n",
        "from tensorflow.keras import models\n",
        "from tensorflow.keras import layers\n",
        "from tensorflow.keras import optimizers\n",
        "from tensorflow.keras.regularizers import l2\n",
        "from tensorflow.keras.layers import LSTM\n",
        "from tensorflow.keras.utils import plot_model\n",
        "from datetime import datetime\n",
        "\n",
        "import os\n",
        "import numpy as np\n",
        "import pandas as pd\n",
        "import matplotlib.pyplot as plt\n",
        "### Add convolution 2D\n",
        "def make_model():\n",
        "  Seq = tf.keras.models.Sequential()\n",
        "  Seq.add(layers.Conv2D(32, (3, 3), activation='relu',input_shape=(IMAGE_SIZE, IMAGE_SIZE, 3)))\n",
        "  \n",
        "  Seq.add(layers.MaxPooling2D((2, 2)))\n",
        "\n",
        "  Seq.add(layers.Conv2D(64, (3, 3), activation='relu'))\n",
        "\n",
        "  Seq.add(layers.MaxPooling2D((2, 2)))\n",
        "\n",
        "  Seq.add(layers.Conv2D(128, (3, 3), activation='relu'))\n",
        "\n",
        "  Seq.add(layers.Conv2D(128, (3, 3), activation='relu'))\n",
        "\n",
        "  Seq.add(layers.Flatten())\n",
        " # Seq.add(layers.Dropout(0.2))\n",
        "\n",
        "  Seq.add(layers.Dense(512, activation='relu'))\n",
        "\n",
        "  Seq.add(layers.Dense(10, activation='softmax'))\n",
        "  Seq.compile(loss='categorical_crossentropy',\n",
        "              optimizer=optimizers.RMSprop(lr=0.001,decay=1e-6),\n",
        "              metrics=['accuracy'])\n",
        "  return Seq\n"
      ],
      "execution_count": 0,
      "outputs": []
    },
    {
      "cell_type": "code",
      "metadata": {
        "id": "OuVyTLGI3ypW",
        "colab_type": "code",
        "outputId": "319ee056-4173-412c-c1d0-fe2a7fb445e1",
        "colab": {
          "base_uri": "https://localhost:8080/",
          "height": 459
        }
      },
      "source": [
        "Conv_model = make_model()\n",
        "Conv_model.summary()"
      ],
      "execution_count": 0,
      "outputs": [
        {
          "output_type": "stream",
          "text": [
            "Model: \"sequential_2\"\n",
            "_________________________________________________________________\n",
            "Layer (type)                 Output Shape              Param #   \n",
            "=================================================================\n",
            "conv2d_3 (Conv2D)            (None, 30, 30, 32)        896       \n",
            "_________________________________________________________________\n",
            "max_pooling2d_2 (MaxPooling2 (None, 15, 15, 32)        0         \n",
            "_________________________________________________________________\n",
            "conv2d_4 (Conv2D)            (None, 13, 13, 64)        18496     \n",
            "_________________________________________________________________\n",
            "max_pooling2d_3 (MaxPooling2 (None, 6, 6, 64)          0         \n",
            "_________________________________________________________________\n",
            "conv2d_5 (Conv2D)            (None, 4, 4, 128)         73856     \n",
            "_________________________________________________________________\n",
            "conv2d_6 (Conv2D)            (None, 2, 2, 128)         147584    \n",
            "_________________________________________________________________\n",
            "flatten_1 (Flatten)          (None, 512)               0         \n",
            "_________________________________________________________________\n",
            "dense_4 (Dense)              (None, 512)               262656    \n",
            "_________________________________________________________________\n",
            "dense_5 (Dense)              (None, 10)                5130      \n",
            "=================================================================\n",
            "Total params: 508,618\n",
            "Trainable params: 508,618\n",
            "Non-trainable params: 0\n",
            "_________________________________________________________________\n"
          ],
          "name": "stdout"
        }
      ]
    },
    {
      "cell_type": "code",
      "metadata": {
        "id": "WCTVYtv13ywv",
        "colab_type": "code",
        "outputId": "ee8d38c7-1174-4d78-a4a5-49cca6ecf8f8",
        "colab": {
          "base_uri": "https://localhost:8080/",
          "height": 377
        }
      },
      "source": [
        "Fitting_model_2 = Conv_model.fit(\n",
        "    train_images, train_labels,\n",
        "    batch_size = 64,\n",
        "    steps_per_epoch = 100,\n",
        "    epochs=10,\n",
        "    verbose = 1,\n",
        "    validation_data= (val_images, val_labels),\n",
        "    validation_batch_size = 64,\n",
        "    validation_steps = 50)\n"
      ],
      "execution_count": 0,
      "outputs": [
        {
          "output_type": "stream",
          "text": [
            "Epoch 1/10\n",
            "100/100 [==============================] - 1s 10ms/step - loss: 2.1765 - accuracy: 0.1866 - val_loss: 2.0763 - val_accuracy: 0.2428\n",
            "Epoch 2/10\n",
            "100/100 [==============================] - 1s 7ms/step - loss: 1.9358 - accuracy: 0.2878 - val_loss: 1.8412 - val_accuracy: 0.3350\n",
            "Epoch 3/10\n",
            "100/100 [==============================] - 1s 7ms/step - loss: 1.7660 - accuracy: 0.3625 - val_loss: 1.5699 - val_accuracy: 0.4266\n",
            "Epoch 4/10\n",
            "100/100 [==============================] - 1s 7ms/step - loss: 1.6243 - accuracy: 0.4038 - val_loss: 1.4601 - val_accuracy: 0.4681\n",
            "Epoch 5/10\n",
            "100/100 [==============================] - 1s 7ms/step - loss: 1.5366 - accuracy: 0.4428 - val_loss: 1.6277 - val_accuracy: 0.4194\n",
            "Epoch 6/10\n",
            "100/100 [==============================] - 1s 7ms/step - loss: 1.4351 - accuracy: 0.4762 - val_loss: 1.5209 - val_accuracy: 0.4597\n",
            "Epoch 7/10\n",
            "100/100 [==============================] - 1s 7ms/step - loss: 1.4220 - accuracy: 0.4905 - val_loss: 1.2957 - val_accuracy: 0.5303\n",
            "Epoch 8/10\n",
            "100/100 [==============================] - 1s 8ms/step - loss: 1.3381 - accuracy: 0.5240 - val_loss: 1.3347 - val_accuracy: 0.5241\n",
            "Epoch 9/10\n",
            "100/100 [==============================] - 1s 7ms/step - loss: 1.2928 - accuracy: 0.5353 - val_loss: 1.3718 - val_accuracy: 0.5125\n",
            "Epoch 10/10\n",
            "100/100 [==============================] - 1s 7ms/step - loss: 1.2630 - accuracy: 0.5544 - val_loss: 1.2211 - val_accuracy: 0.5725\n"
          ],
          "name": "stdout"
        }
      ]
    },
    {
      "cell_type": "code",
      "metadata": {
        "id": "hO-e0etu49Uu",
        "colab_type": "code",
        "outputId": "47c90633-dd41-433a-bb72-d7a6ad706d72",
        "colab": {
          "base_uri": "https://localhost:8080/",
          "height": 71
        }
      },
      "source": [
        "Testing_model_2 = Conv_model.evaluate(test_images, test_labels, batch_size = 64)\n",
        "Testing_model_2[1]"
      ],
      "execution_count": 0,
      "outputs": [
        {
          "output_type": "stream",
          "text": [
            "157/157 [==============================] - 1s 3ms/step - loss: 1.2494 - accuracy: 0.5589\n"
          ],
          "name": "stdout"
        },
        {
          "output_type": "execute_result",
          "data": {
            "text/plain": [
              "0.558899998664856"
            ]
          },
          "metadata": {
            "tags": []
          },
          "execution_count": 49
        }
      ]
    },
    {
      "cell_type": "code",
      "metadata": {
        "id": "X55Bhr3-0FKN",
        "colab_type": "code",
        "outputId": "34d92bf6-df17-40a3-846f-4e392c9abad1",
        "colab": {
          "base_uri": "https://localhost:8080/",
          "height": 295
        }
      },
      "source": [
        "# summarize history for accuracy\n",
        "plt.plot(Fitting_model_2.history['val_accuracy'])\n",
        "plt.plot(Fitting_model_2.history['accuracy'])\n",
        "plt.title('model accuracy')\n",
        "plt.ylabel('accuracy')\n",
        "plt.xlabel('epoch')\n",
        "plt.legend(['train', 'validation'], loc='upper left')\n",
        "plt.show()"
      ],
      "execution_count": 0,
      "outputs": [
        {
          "output_type": "display_data",
          "data": {
            "image/png": "[encoded data removed]",
            "text/plain": [
              "<Figure size 432x288 with 1 Axes>"
            ]
          },
          "metadata": {
            "tags": [],
            "needs_background": "light"
          }
        }
      ]
    },
    {
      "cell_type": "markdown",
      "metadata": {
        "colab_type": "text",
        "id": "gAJgmBF91hii"
      },
      "source": [
        ""
      ]
    },
    {
      "cell_type": "markdown",
      "metadata": {
        "colab_type": "text",
        "id": "adN9Tq-6lyG-"
      },
      "source": [
        ""
      ]
    },
    {
      "cell_type": "markdown",
      "metadata": {
        "colab_type": "text",
        "id": "9NTjVIUkmv7S"
      },
      "source": [
        "#### Task 2.1.3 Train a ResNet\n",
        "\n",
        "Train a residual neural network (ResNet) on the CIFAR10 training data and report the test accuracy and the training time.\n",
        "\n",
        "The ResNet is a popular network architecture for image classification. You may find more information about how ResNet works by reading this [paper](https://arxiv.org/abs/1512.03385).\n",
        "\n",
        "\n",
        "*(You may implement a resnet model or use an existing implementation. In either case, you should not use pretrained network weights.)*"
      ]
    },
    {
      "cell_type": "code",
      "metadata": {
        "id": "oCmmz43JO3uC",
        "colab_type": "code",
        "colab": {}
      },
      "source": [
        "import os\n",
        "import numpy as np\n",
        "import pandas as pd\n",
        "import matplotlib.pyplot as plt\n",
        "import keras\n",
        "import numpy as np\n",
        "from keras.datasets import cifar10\n",
        "from keras.applications.resnet50 import ResNet50\n",
        "from keras.layers import GlobalAveragePooling2D, Dense\n",
        "from keras.preprocessing.image import ImageDataGenerator\n",
        "from keras.models import Model as models\n",
        "from skimage.transform import resize\n",
        "from IPython import embed\n",
        "\n",
        "(train_images, train_labels), (test_images, test_labels) = cifar10.load_data()\n",
        "train_images = train_images[0:2000]\n",
        "train_labels = train_labels[0:2000]\n",
        "test_images = test_images[0:2000]\n",
        "test_labels = test_labels[0:2000]\n",
        "####Cannot run the whole data through the process since it causes carsh so using only 2000 samples of the data.\n"
      ],
      "execution_count": 0,
      "outputs": []
    },
    {
      "cell_type": "code",
      "metadata": {
        "id": "j0hWosvsJcCg",
        "colab_type": "code",
        "colab": {}
      },
      "source": [
        "NUM_CLASSES = 10\n",
        "BATCH_SIZE = 64\n",
        "NUM_EPOCHS = 15"
      ],
      "execution_count": 0,
      "outputs": []
    },
    {
      "cell_type": "code",
      "metadata": {
        "id": "sfOdpxppO4kK",
        "colab_type": "code",
        "colab": {}
      },
      "source": [
        "\n",
        "\n",
        "train_labels = keras.utils.to_categorical(train_labels, NUM_CLASSES)\n",
        "test_labels = keras.utils.to_categorical(test_labels, NUM_CLASSES)\n",
        "\n",
        "train_images = train_images.astype('float32') / 255\n",
        "test_images = test_images.astype('float32') / 255\n",
        "\n",
        "use_data_aug = True\n",
        "\n",
        "def resize_image_arr(img_arr):\n",
        "    x_resized_list = []\n",
        "    for i in range(img_arr.shape[0]):\n",
        "        img = img_arr[0]\n",
        "        resized_img = resize(img, (224, 224))\n",
        "        x_resized_list.append(resized_img)\n",
        "    return np.stack(x_resized_list)\n",
        "\n",
        "# Resize image arrays\n",
        "train_images = resize_image_arr(train_images)\n",
        "test_images = resize_image_arr(test_images)\n",
        "\n"
      ],
      "execution_count": 0,
      "outputs": []
    },
    {
      "cell_type": "code",
      "metadata": {
        "colab_type": "code",
        "outputId": "a101ed62-ee09-44ca-b6f3-8fa23dec9517",
        "id": "OqrUYfXI47MW",
        "colab": {
          "base_uri": "https://localhost:8080/",
          "height": 598
        }
      },
      "source": [
        "resnet_model = ResNet50(include_top=False, weights='imagenet')\n",
        "\n",
        "train_resnet = resnet_model.output\n",
        "train_resnet = GlobalAveragePooling2D()(train_resnet)\n",
        "train_resnet = Dense(512, activation='relu')(train_resnet)\n",
        "predictions = Dense(NUM_CLASSES, activation='softmax')(train_resnet)\n",
        "\n",
        "#Training the model:\n",
        "model = models(inputs=resnet_model.input, outputs=predictions)\n",
        "\n",
        "model.compile(loss='binary_crossentropy',\n",
        "              optimizer= optimizers.RMSprop(lr=0,decay= 0),\n",
        "              metrics=['accuracy'])\n",
        "\n",
        "model.fit(train_images, train_labels,\n",
        "              batch_size=BATCH_SIZE,\n",
        "              epochs=NUM_EPOCHS,\n",
        "              validation_data=(test_images, test_labels),\n",
        "              shuffle=False)\n",
        "datagen = ImageDataGenerator(\n",
        "        rotation_range=0,\n",
        "        width_shift_range=0,\n",
        "        height_shift_range=0,\n",
        "        horizontal_flip=True)\n",
        "\n",
        "datagen.fit(train_images)\n"
      ],
      "execution_count": 0,
      "outputs": [
        {
          "output_type": "stream",
          "text": [
            "/usr/local/lib/python3.6/dist-packages/keras_applications/resnet50.py:265: UserWarning: The output shape of `ResNet50(include_top=False)` has been changed since Keras 2.2.0.\n",
            "  warnings.warn('The output shape of `ResNet50(include_top=False)` '\n"
          ],
          "name": "stderr"
        },
        {
          "output_type": "stream",
          "text": [
            "Train on 2000 samples, validate on 2000 samples\n",
            "Epoch 1/15\n",
            "2000/2000 [==============================] - 37s 19ms/step - loss: 0.3436 - accuracy: 0.9000 - val_loss: 0.3326 - val_accuracy: 0.9000\n",
            "Epoch 2/15\n",
            "2000/2000 [==============================] - 26s 13ms/step - loss: 0.3436 - accuracy: 0.9000 - val_loss: 0.5217 - val_accuracy: 0.8198\n",
            "Epoch 3/15\n",
            "2000/2000 [==============================] - 26s 13ms/step - loss: 0.3436 - accuracy: 0.9000 - val_loss: 1.0440 - val_accuracy: 0.8198\n",
            "Epoch 4/15\n",
            "2000/2000 [==============================] - 26s 13ms/step - loss: 0.3436 - accuracy: 0.9000 - val_loss: 1.6213 - val_accuracy: 0.8198\n",
            "Epoch 5/15\n",
            "2000/2000 [==============================] - 26s 13ms/step - loss: 0.3436 - accuracy: 0.9000 - val_loss: 1.9467 - val_accuracy: 0.8203\n",
            "Epoch 6/15\n",
            "2000/2000 [==============================] - 26s 13ms/step - loss: 0.3436 - accuracy: 0.9000 - val_loss: 2.7561 - val_accuracy: 0.8203\n",
            "Epoch 7/15\n",
            "2000/2000 [==============================] - 26s 13ms/step - loss: 0.3436 - accuracy: 0.9000 - val_loss: 2.7561 - val_accuracy: 0.8203\n",
            "Epoch 8/15\n",
            "2000/2000 [==============================] - 26s 13ms/step - loss: 0.3436 - accuracy: 0.9000 - val_loss: 2.7561 - val_accuracy: 0.8203\n",
            "Epoch 9/15\n",
            "2000/2000 [==============================] - 26s 13ms/step - loss: 0.3436 - accuracy: 0.9000 - val_loss: 2.7561 - val_accuracy: 0.8203\n",
            "Epoch 10/15\n",
            "2000/2000 [==============================] - 26s 13ms/step - loss: 0.3436 - accuracy: 0.9000 - val_loss: 2.7561 - val_accuracy: 0.8203\n",
            "Epoch 11/15\n",
            "2000/2000 [==============================] - 26s 13ms/step - loss: 0.3436 - accuracy: 0.9000 - val_loss: 2.7561 - val_accuracy: 0.8203\n",
            "Epoch 12/15\n",
            "2000/2000 [==============================] - 26s 13ms/step - loss: 0.3436 - accuracy: 0.9000 - val_loss: 2.7561 - val_accuracy: 0.8203\n",
            "Epoch 13/15\n",
            "2000/2000 [==============================] - 26s 13ms/step - loss: 0.3436 - accuracy: 0.9000 - val_loss: 2.7561 - val_accuracy: 0.8203\n",
            "Epoch 14/15\n",
            "2000/2000 [==============================] - 26s 13ms/step - loss: 0.3436 - accuracy: 0.9000 - val_loss: 2.7561 - val_accuracy: 0.8203\n",
            "Epoch 15/15\n",
            "2000/2000 [==============================] - 26s 13ms/step - loss: 0.3436 - accuracy: 0.9000 - val_loss: 2.7561 - val_accuracy: 0.8203\n"
          ],
          "name": "stdout"
        }
      ]
    },
    {
      "cell_type": "code",
      "metadata": {
        "colab_type": "code",
        "outputId": "ba71a9c8-ad00-4e45-e693-76a3e3957ead",
        "id": "qXj3qDPG47MZ",
        "colab": {
          "base_uri": "https://localhost:8080/",
          "height": 564
        }
      },
      "source": [
        "#Fitting the model\n",
        "model.fit_generator(datagen.flow(\n",
        "    train_images, train_labels,\n",
        "    batch_size=BATCH_SIZE),\n",
        "    epochs=NUM_EPOCHS,\n",
        "    validation_data=(test_images, test_labels))"
      ],
      "execution_count": 0,
      "outputs": [
        {
          "output_type": "stream",
          "text": [
            "Epoch 1/15\n",
            "32/32 [==============================] - 26s 809ms/step - loss: 0.3514 - accuracy: 0.9000 - val_loss: 2.7561 - val_accuracy: 0.8203\n",
            "Epoch 2/15\n",
            "32/32 [==============================] - 26s 807ms/step - loss: 0.3520 - accuracy: 0.9000 - val_loss: 2.7561 - val_accuracy: 0.8203\n",
            "Epoch 3/15\n",
            "32/32 [==============================] - 26s 808ms/step - loss: 0.3504 - accuracy: 0.9000 - val_loss: 2.7561 - val_accuracy: 0.8203\n",
            "Epoch 4/15\n",
            "32/32 [==============================] - 26s 809ms/step - loss: 0.3500 - accuracy: 0.9000 - val_loss: 2.7561 - val_accuracy: 0.8203\n",
            "Epoch 5/15\n",
            "32/32 [==============================] - 26s 808ms/step - loss: 0.3509 - accuracy: 0.9000 - val_loss: 2.5198 - val_accuracy: 0.8203\n",
            "Epoch 6/15\n",
            "32/32 [==============================] - 26s 808ms/step - loss: 0.3502 - accuracy: 0.9000 - val_loss: 1.7507 - val_accuracy: 0.8203\n",
            "Epoch 7/15\n",
            "32/32 [==============================] - 26s 809ms/step - loss: 0.3523 - accuracy: 0.9000 - val_loss: 1.3798 - val_accuracy: 0.8203\n",
            "Epoch 8/15\n",
            "32/32 [==============================] - 26s 808ms/step - loss: 0.3504 - accuracy: 0.9000 - val_loss: 1.4766 - val_accuracy: 0.8198\n",
            "Epoch 9/15\n",
            "32/32 [==============================] - 26s 807ms/step - loss: 0.3511 - accuracy: 0.9000 - val_loss: 1.7350 - val_accuracy: 0.8198\n",
            "Epoch 10/15\n",
            "32/32 [==============================] - 26s 808ms/step - loss: 0.3503 - accuracy: 0.9000 - val_loss: 1.8679 - val_accuracy: 0.8198\n",
            "Epoch 11/15\n",
            "32/32 [==============================] - 26s 808ms/step - loss: 0.3505 - accuracy: 0.9000 - val_loss: 1.9627 - val_accuracy: 0.8198\n",
            "Epoch 12/15\n",
            "32/32 [==============================] - 26s 807ms/step - loss: 0.3514 - accuracy: 0.9000 - val_loss: 1.8794 - val_accuracy: 0.8198\n",
            "Epoch 13/15\n",
            "32/32 [==============================] - 26s 807ms/step - loss: 0.3502 - accuracy: 0.9000 - val_loss: 1.6179 - val_accuracy: 0.8198\n",
            "Epoch 14/15\n",
            "32/32 [==============================] - 26s 806ms/step - loss: 0.3500 - accuracy: 0.9000 - val_loss: 1.5954 - val_accuracy: 0.8198\n",
            "Epoch 15/15\n",
            "32/32 [==============================] - 26s 807ms/step - loss: 0.3509 - accuracy: 0.9000 - val_loss: 1.5557 - val_accuracy: 0.8198\n"
          ],
          "name": "stdout"
        },
        {
          "output_type": "execute_result",
          "data": {
            "text/plain": [
              "<keras.callbacks.callbacks.History at 0x7f70636cbe10>"
            ]
          },
          "metadata": {
            "tags": []
          },
          "execution_count": 81
        }
      ]
    },
    {
      "cell_type": "code",
      "metadata": {
        "id": "tcp7XQUA__dn",
        "colab_type": "code",
        "outputId": "a9f190b0-2d24-4003-a9d9-62cd0b822052",
        "colab": {
          "base_uri": "https://localhost:8080/",
          "height": 68
        }
      },
      "source": [
        "Accuracy = model.evaluate(test_images, test_labels, \n",
        "                          batch_size= BATCH_SIZE, \n",
        "                          verbose=1)\n",
        "print('\\nTest result: %.3f loss: %.3f' % (Accuracy[1]*100, Accuracy[0]))"
      ],
      "execution_count": 0,
      "outputs": [
        {
          "output_type": "stream",
          "text": [
            "2000/2000 [==============================] - 7s 3ms/step\n",
            "\n",
            "Test result: 81.980 loss: 1.556\n"
          ],
          "name": "stdout"
        }
      ]
    },
    {
      "cell_type": "markdown",
      "metadata": {
        "colab_type": "text",
        "id": "AH6ZBiECzS75"
      },
      "source": [
        "### Task 2.2 Fast training of ResNet\n",
        "\n",
        "*(weight ~10%)*\n",
        "\n",
        "In this task, you will experiment with different ways to reduce the time for training your ResNet on CIFAR10. There are different ways to speed up neural network training; below are two ideas. Please select at least one idea to implement. Explain the experiment steps and report the final performance and training time.\n",
        "\n",
        "#### Option 1. Learning rate schedule\n",
        "\n",
        "Use a learning rate schedule for the training. Some popular learning rate schedules include \n",
        "\n",
        "- the Step Decay learning rate (e.g., see [here](https://github.com/kuangliu/pytorch-cifar))\n",
        "- [Cyclical learning rates](https://arxiv.org/abs/1506.01186)\n",
        "- [The exponential learning rate](https://openreview.net/forum?id=rJg8TeSFDH) \n",
        "\n",
        "Also Keras provides [some convenient functions](https://www.tensorflow.org/api_docs/python/tf/keras/optimizers/schedules) that you can use.\n",
        "\n",
        "\n",
        "#### Option 2. Look ahead optimiser\n",
        "\n",
        "Read [this paper](https://arxiv.org/abs/1907.08610) and implement the Lookahead optimiser."
      ]
    },
    {
      "cell_type": "code",
      "metadata": {
        "id": "-SD5Cgpc8s1Z",
        "colab_type": "code",
        "colab": {}
      },
      "source": [
        "import keras\n",
        "from keras.models import Sequential\n",
        "from keras.utils import np_utils\n",
        "from keras.preprocessing.image import ImageDataGenerator\n",
        "from keras.layers import Dense, Activation, Flatten, Dropout, BatchNormalization\n",
        "from keras.layers import Conv2D, MaxPooling2D\n",
        "from keras.datasets import cifar10\n",
        "from keras import regularizers\n",
        "from keras.callbacks import LearningRateScheduler\n",
        "import numpy as np\n"
      ],
      "execution_count": 0,
      "outputs": []
    },
    {
      "cell_type": "code",
      "metadata": {
        "id": "2QfT9ZV7-KIr",
        "colab_type": "code",
        "colab": {}
      },
      "source": [
        " \n",
        "def lr_schedule(epoch):\n",
        "    lrate = 0.001\n",
        "    if epoch > 5:\n",
        "        lrate = 0.0005\n",
        "    if epoch > 10:\n",
        "        lrate = 0.0003\n",
        "    return lrate\n",
        " "
      ],
      "execution_count": 0,
      "outputs": []
    },
    {
      "cell_type": "code",
      "metadata": {
        "id": "z88NFUS_-Pj_",
        "colab_type": "code",
        "colab": {}
      },
      "source": [
        "\n",
        "(train_images, train_labels), (test_images, test_labels) = cifar10.load_data()\n",
        "\n",
        "train_images = train_images.astype('float32')\n",
        "test_images = test_images.astype('float32')\n",
        " \n",
        "#z-score\n",
        "mean = np.mean(train_images,axis=(0,1,2,3))\n",
        "std = np.std(train_images,axis=(0,1,2,3))\n",
        "train_images = (train_images - mean)/(std+1e-7)\n",
        "test_images = (test_images - mean)/(std+1e-7)\n",
        "\n",
        "NUM_CLASSES = 10\n",
        "BATCH_SIZE = 64\n",
        "NUM_EPOCHS = 15\n",
        "\n",
        "train_labels = keras.utils.to_categorical(train_labels, NUM_CLASSES)\n",
        "test_labels = keras.utils.to_categorical(test_labels, NUM_CLASSES)\n",
        " "
      ],
      "execution_count": 0,
      "outputs": []
    },
    {
      "cell_type": "code",
      "metadata": {
        "id": "yWrqLN-U-THo",
        "colab_type": "code",
        "outputId": "120bdb3f-2cc4-47c0-9dfc-9e057adfc939",
        "colab": {
          "base_uri": "https://localhost:8080/",
          "height": 1000
        }
      },
      "source": [
        "\n",
        "weight_decay = 1e-4\n",
        "model = Sequential()\n",
        "model.add(Conv2D(32, (3,3), padding='same', kernel_regularizer=regularizers.l2(weight_decay), input_shape = train_images.shape[1:]))\n",
        "model.add(Activation('relu'))\n",
        "model.add(BatchNormalization())\n",
        "model.add(Conv2D(32, (3,3), padding='same', kernel_regularizer=regularizers.l2(weight_decay)))\n",
        "model.add(Activation('relu'))\n",
        "model.add(BatchNormalization())\n",
        "model.add(MaxPooling2D(pool_size=(2,2)))\n",
        "model.add(Dropout(0.2))\n",
        " \n",
        "model.add(Conv2D(64, (3,3), padding='same', kernel_regularizer=regularizers.l2(weight_decay)))\n",
        "model.add(Activation('relu'))\n",
        "model.add(BatchNormalization())\n",
        "model.add(Conv2D(64, (3,3), padding='same', kernel_regularizer=regularizers.l2(weight_decay)))\n",
        "model.add(Activation('relu'))\n",
        "model.add(BatchNormalization())\n",
        "model.add(MaxPooling2D(pool_size=(2,2)))\n",
        "model.add(Dropout(0.3))\n",
        " \n",
        "model.add(Conv2D(128, (3,3), padding='same', kernel_regularizer=regularizers.l2(weight_decay)))\n",
        "model.add(Activation('relu'))\n",
        "model.add(BatchNormalization())\n",
        "model.add(Conv2D(128, (3,3), padding='same', kernel_regularizer=regularizers.l2(weight_decay)))\n",
        "model.add(Activation('relu'))\n",
        "model.add(BatchNormalization())\n",
        "model.add(MaxPooling2D(pool_size=(2,2)))\n",
        "model.add(Dropout(0.4))\n",
        " \n",
        "model.add(Flatten())\n",
        "model.add(Dense(NUM_CLASSES, activation='softmax'))\n",
        " \n",
        "model.summary()\n",
        " "
      ],
      "execution_count": 0,
      "outputs": [
        {
          "output_type": "stream",
          "text": [
            "Model: \"sequential_2\"\n",
            "_________________________________________________________________\n",
            "Layer (type)                 Output Shape              Param #   \n",
            "=================================================================\n",
            "conv2d_101 (Conv2D)          (None, 32, 32, 32)        896       \n",
            "_________________________________________________________________\n",
            "activation_346 (Activation)  (None, 32, 32, 32)        0         \n",
            "_________________________________________________________________\n",
            "batch_normalization_101 (Bat (None, 32, 32, 32)        128       \n",
            "_________________________________________________________________\n",
            "conv2d_102 (Conv2D)          (None, 32, 32, 32)        9248      \n",
            "_________________________________________________________________\n",
            "activation_347 (Activation)  (None, 32, 32, 32)        0         \n",
            "_________________________________________________________________\n",
            "batch_normalization_102 (Bat (None, 32, 32, 32)        128       \n",
            "_________________________________________________________________\n",
            "max_pooling2d_13 (MaxPooling (None, 16, 16, 32)        0         \n",
            "_________________________________________________________________\n",
            "dropout_4 (Dropout)          (None, 16, 16, 32)        0         \n",
            "_________________________________________________________________\n",
            "conv2d_103 (Conv2D)          (None, 16, 16, 64)        18496     \n",
            "_________________________________________________________________\n",
            "activation_348 (Activation)  (None, 16, 16, 64)        0         \n",
            "_________________________________________________________________\n",
            "batch_normalization_103 (Bat (None, 16, 16, 64)        256       \n",
            "_________________________________________________________________\n",
            "conv2d_104 (Conv2D)          (None, 16, 16, 64)        36928     \n",
            "_________________________________________________________________\n",
            "activation_349 (Activation)  (None, 16, 16, 64)        0         \n",
            "_________________________________________________________________\n",
            "batch_normalization_104 (Bat (None, 16, 16, 64)        256       \n",
            "_________________________________________________________________\n",
            "max_pooling2d_14 (MaxPooling (None, 8, 8, 64)          0         \n",
            "_________________________________________________________________\n",
            "dropout_5 (Dropout)          (None, 8, 8, 64)          0         \n",
            "_________________________________________________________________\n",
            "conv2d_105 (Conv2D)          (None, 8, 8, 128)         73856     \n",
            "_________________________________________________________________\n",
            "activation_350 (Activation)  (None, 8, 8, 128)         0         \n",
            "_________________________________________________________________\n",
            "batch_normalization_105 (Bat (None, 8, 8, 128)         512       \n",
            "_________________________________________________________________\n",
            "conv2d_106 (Conv2D)          (None, 8, 8, 128)         147584    \n",
            "_________________________________________________________________\n",
            "activation_351 (Activation)  (None, 8, 8, 128)         0         \n",
            "_________________________________________________________________\n",
            "batch_normalization_106 (Bat (None, 8, 8, 128)         512       \n",
            "_________________________________________________________________\n",
            "max_pooling2d_15 (MaxPooling (None, 4, 4, 128)         0         \n",
            "_________________________________________________________________\n",
            "dropout_6 (Dropout)          (None, 4, 4, 128)         0         \n",
            "_________________________________________________________________\n",
            "flatten_2 (Flatten)          (None, 2048)              0         \n",
            "_________________________________________________________________\n",
            "dense_13 (Dense)             (None, 10)                20490     \n",
            "=================================================================\n",
            "Total params: 309,290\n",
            "Trainable params: 308,394\n",
            "Non-trainable params: 896\n",
            "_________________________________________________________________\n"
          ],
          "name": "stdout"
        }
      ]
    },
    {
      "cell_type": "code",
      "metadata": {
        "id": "0qjGTV3d-VDR",
        "colab_type": "code",
        "outputId": "a65d3c1c-880c-4a2e-e6e0-e7448ad01d8f",
        "colab": {
          "base_uri": "https://localhost:8080/",
          "height": 564
        }
      },
      "source": [
        "#data augmentation using imagedatagenerator\n",
        "datagen = ImageDataGenerator(\n",
        "    rotation_range=15,\n",
        "    width_shift_range=0.1,\n",
        "    height_shift_range=0.1,\n",
        "    horizontal_flip=True,\n",
        "    )\n",
        "datagen.fit(train_images)\n",
        "train_datagen = datagen.flow(train_images, train_labels, \n",
        "                             batch_size = BATCH_SIZE)\n",
        "\n",
        "model.compile(loss = 'categorical_crossentropy', \n",
        "              optimizer = keras.optimizers.rmsprop(lr=0.001,decay=1e-6), \n",
        "              metrics = ['accuracy'])\n",
        "\n",
        "model.fit_generator(train_datagen,\\\n",
        "                    steps_per_epoch=train_images.shape[0] // BATCH_SIZE,\n",
        "                    epochs=15,\\\n",
        "                    verbose=1,\n",
        "                    validation_data=(test_images, test_labels),\n",
        "                    callbacks=[LearningRateScheduler(lr_schedule)])\n"
      ],
      "execution_count": 0,
      "outputs": [
        {
          "output_type": "stream",
          "text": [
            "Epoch 1/15\n",
            "781/781 [==============================] - 34s 43ms/step - loss: 1.9230 - accuracy: 0.4296 - val_loss: 1.4479 - val_accuracy: 0.5598\n",
            "Epoch 2/15\n",
            "781/781 [==============================] - 33s 42ms/step - loss: 1.3671 - accuracy: 0.5808 - val_loss: 1.1015 - val_accuracy: 0.6521\n",
            "Epoch 3/15\n",
            "781/781 [==============================] - 33s 42ms/step - loss: 1.1676 - accuracy: 0.6396 - val_loss: 1.5988 - val_accuracy: 0.6639\n",
            "Epoch 4/15\n",
            "781/781 [==============================] - 33s 42ms/step - loss: 1.0507 - accuracy: 0.6771 - val_loss: 0.9321 - val_accuracy: 0.7179\n",
            "Epoch 5/15\n",
            "781/781 [==============================] - 33s 42ms/step - loss: 0.9492 - accuracy: 0.7068 - val_loss: 0.8474 - val_accuracy: 0.7421\n",
            "Epoch 6/15\n",
            "781/781 [==============================] - 33s 43ms/step - loss: 0.8932 - accuracy: 0.7278 - val_loss: 0.7924 - val_accuracy: 0.7705\n",
            "Epoch 7/15\n",
            "781/781 [==============================] - 33s 42ms/step - loss: 0.7939 - accuracy: 0.7609 - val_loss: 0.7760 - val_accuracy: 0.7727\n",
            "Epoch 8/15\n",
            "781/781 [==============================] - 32s 41ms/step - loss: 0.7592 - accuracy: 0.7718 - val_loss: 0.7068 - val_accuracy: 0.7914\n",
            "Epoch 9/15\n",
            "781/781 [==============================] - 32s 41ms/step - loss: 0.7364 - accuracy: 0.7778 - val_loss: 0.6777 - val_accuracy: 0.8018\n",
            "Epoch 10/15\n",
            "781/781 [==============================] - 32s 41ms/step - loss: 0.7157 - accuracy: 0.7840 - val_loss: 0.6898 - val_accuracy: 0.8009\n",
            "Epoch 11/15\n",
            "781/781 [==============================] - 32s 41ms/step - loss: 0.6998 - accuracy: 0.7907 - val_loss: 0.6913 - val_accuracy: 0.8050\n",
            "Epoch 12/15\n",
            "781/781 [==============================] - 33s 42ms/step - loss: 0.6685 - accuracy: 0.8012 - val_loss: 0.6232 - val_accuracy: 0.8212\n",
            "Epoch 13/15\n",
            "781/781 [==============================] - 32s 42ms/step - loss: 0.6476 - accuracy: 0.8079 - val_loss: 0.6244 - val_accuracy: 0.8238\n",
            "Epoch 14/15\n",
            "781/781 [==============================] - 32s 41ms/step - loss: 0.6352 - accuracy: 0.8116 - val_loss: 0.5940 - val_accuracy: 0.8300\n",
            "Epoch 15/15\n",
            "781/781 [==============================] - 33s 42ms/step - loss: 0.6274 - accuracy: 0.8159 - val_loss: 0.6334 - val_accuracy: 0.8173\n"
          ],
          "name": "stdout"
        },
        {
          "output_type": "execute_result",
          "data": {
            "text/plain": [
              "<keras.callbacks.callbacks.History at 0x7f70636c92b0>"
            ]
          },
          "metadata": {
            "tags": []
          },
          "execution_count": 73
        }
      ]
    },
    {
      "cell_type": "code",
      "metadata": {
        "id": "UwezxuL--XIf",
        "colab_type": "code",
        "outputId": "47434ea8-3f61-466f-c37e-58775df9b87f",
        "colab": {
          "base_uri": "https://localhost:8080/",
          "height": 68
        }
      },
      "source": [
        "#testing\n",
        "scores = model.evaluate(test_images, test_labels, batch_size=64, verbose=1)\n",
        "print('\\nTest result: %.3f loss: %.3f' % (scores[1]*100,scores[0]))\n"
      ],
      "execution_count": 0,
      "outputs": [
        {
          "output_type": "stream",
          "text": [
            "10000/10000 [==============================] - 1s 76us/step\n",
            "\n",
            "Test result: 81.730 loss: 0.633\n"
          ],
          "name": "stdout"
        }
      ]
    },
    {
      "cell_type": "markdown",
      "metadata": {
        "colab_type": "text",
        "id": "C8cKfAOjpn7c"
      },
      "source": [
        "### Task 2.3 Performance comparison\n",
        "\n",
        "*(weight ~3%)*\n",
        "\n",
        "Based on the above experiments, which method or which combination of methods result in the best accuracy with the same training time."
      ]
    },
    {
      "cell_type": "markdown",
      "metadata": {
        "id": "5gr71P7kXJ3J",
        "colab_type": "text"
      },
      "source": [
        "\n",
        "\n",
        "1. From the Task 2.1 with shallow Conv net we achieved an accuracy of 55% approximately.\n",
        "\n",
        "2. From the Task 2.1.3 with Resnet we achieved an accuracy of 82% approximately.\n",
        "\n",
        "3. From the Task 2.2 with fast trainin resnet we achieved an accuracy of 82% approximately.\n",
        "\n",
        "Based on the results above we received about the same accuracy for both the methods but the 2.2 is better since the training time for the model is reduced by using the learning rate scheduler.\n",
        "\n"
      ]
    },
    {
      "cell_type": "markdown",
      "metadata": {
        "colab_type": "text",
        "id": "hUV0wuZ01DNA"
      },
      "source": [
        "---\n",
        "**END OF ASSIGNMENT TWO**"
      ]
    }
  ]
}